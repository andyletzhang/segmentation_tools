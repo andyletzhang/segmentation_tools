{
 "cells": [
  {
   "cell_type": "code",
   "execution_count": 1,
   "metadata": {},
   "outputs": [],
   "source": [
    "import os\n",
    "import re\n",
    "from tqdm.notebook import tqdm\n",
    "from pathlib import Path\n",
    "from natsort import natsorted\n",
    "from glob import glob"
   ]
  },
  {
   "cell_type": "code",
   "execution_count": 5,
   "metadata": {},
   "outputs": [
    {
     "data": {
      "application/vnd.jupyter.widget-view+json": {
       "model_id": "75b8b8d5df5b4c1eb5e4f1a349c93ea7",
       "version_major": 2,
       "version_minor": 0
      },
      "text/plain": [
       "0it [00:00, ?it/s]"
      ]
     },
     "metadata": {},
     "output_type": "display_data"
    }
   ],
   "source": [
    "root_dir=Path(r'Y:\\raw_data\\Mosaic')\n",
    "dataset='20240323 FUCCI halo sort1 col_glass colonies'\n",
    "\n",
    "# rename dataset folder to 'raw'\n",
    "dataset_path=root_dir/dataset\n",
    "dataset_path.rename(root_dir/'raw')\n",
    "\n",
    "# create new dataset folder\n",
    "dataset_path.mkdir()\n",
    "\n",
    "# place raw data in new dataset folder\n",
    "raw_data_path=root_dir/'raw'\n",
    "for f in tqdm(raw_data_path.iterdir()):\n",
    "    f.rename(dataset_path/f.name)"
   ]
  },
  {
   "cell_type": "markdown",
   "metadata": {},
   "source": [
    "# Move data"
   ]
  },
  {
   "cell_type": "code",
   "execution_count": 33,
   "metadata": {},
   "outputs": [],
   "source": [
    "os.rename('test_folder', 'placeholder')\n",
    "\n",
    "os.rename('test_folder2', 'test_folder')\n",
    "os.rename('placeholder/raw', 'test_folder/raw')\n",
    "os.remove('placeholder')"
   ]
  },
  {
   "cell_type": "markdown",
   "metadata": {},
   "source": [
    "## Create raw data subfolders"
   ]
  },
  {
   "cell_type": "code",
   "execution_count": 46,
   "metadata": {},
   "outputs": [],
   "source": [
    "raw_data_dir=r'Y:\\raw_data\\2023'\n",
    "\n",
    "folders=natsorted(glob(raw_data_dir+'/*/'))"
   ]
  },
  {
   "cell_type": "code",
   "execution_count": 47,
   "metadata": {},
   "outputs": [
    {
     "data": {
      "application/vnd.jupyter.widget-view+json": {
       "model_id": "0010540856c44aafad5079c9cf4e834e",
       "version_major": 2,
       "version_minor": 0
      },
      "text/plain": [
       "  0%|          | 0/34 [00:00<?, ?it/s]"
      ]
     },
     "metadata": {},
     "output_type": "display_data"
    },
    {
     "name": "stdout",
     "output_type": "stream",
     "text": [
      "creating raw subdirectory for  Y:\\raw_data\\2023\\20230126 halo stretcher - water dries\\\n",
      "creating raw subdirectory for  Y:\\raw_data\\2023\\20230129 halo stretcher - subconfluent\\\n",
      "creating raw subdirectory for  Y:\\raw_data\\2023\\20230202 cellmask stretcher - cells stop adhering\\\n",
      "creating raw subdirectory for  Y:\\raw_data\\2023\\20230216 cellmask stretcher - UV fractures PDMS\\\n",
      "creating raw subdirectory for  Y:\\raw_data\\2023\\20230305 halo glass lines - good for 4h\\\n",
      "creating raw subdirectory for  Y:\\raw_data\\2023\\20230306 GFP fib488 glass lines - medium dries\\\n",
      "creating raw subdirectory for  Y:\\raw_data\\2023\\20230322 halo glass lines - no incubator\\\n",
      "creating raw subdirectory for  Y:\\raw_data\\2023\\20230327 halo stretcher - 3rotations cells unhappy\\\n",
      "creating raw subdirectory for  Y:\\raw_data\\2023\\20230328 GFP glass parafilm - heater toggled\\\n",
      "creating raw subdirectory for  Y:\\raw_data\\2023\\20230329 GFP PDMS parafilm - heater\\\n",
      "creating raw subdirectory for  Y:\\raw_data\\2023\\20230405 GFP EDC-NHS - good patterns, bad division\\\n",
      "creating raw subdirectory for  Y:\\raw_data\\2023\\20230406 GFP spyDNA PDMS - binucleated cells\\\n",
      "creating raw subdirectory for  Y:\\raw_data\\2023\\20230409 halo PDMS lines - laser fry\\\n",
      "creating raw subdirectory for  Y:\\raw_data\\2023\\20230410 halo PDMS lines - good PDMS\\\n",
      "creating raw subdirectory for  Y:\\raw_data\\2023\\20230417 halo stretcher 1stage\\\n",
      "creating raw subdirectory for  Y:\\raw_data\\2023\\20230422 halo glass lines - increasing migration\\\n",
      "creating raw subdirectory for  Y:\\raw_data\\2023\\20230502 halo glass lines - mosaic dense anisotropic\\\n",
      "creating raw subdirectory for  Y:\\raw_data\\2023\\20230503 halo glass lines - TIRF\\\n",
      "creating raw subdirectory for  Y:\\raw_data\\2023\\20230503 halo glass lines - mosaic subconfluent insufficient oil\\\n",
      "creating raw subdirectory for  Y:\\raw_data\\2023\\20230508 halo glass lines incubator - good glass\\\n",
      "creating raw subdirectory for  Y:\\raw_data\\2023\\20230511 halo PDMS lines incubator - dense\\\n",
      "creating raw subdirectory for  Y:\\raw_data\\2023\\20230512 halo H2B glass incubator\\\n",
      "creating raw subdirectory for  Y:\\raw_data\\2023\\20230622 halo H2B glass incubator\\\n",
      "creating raw subdirectory for  Y:\\raw_data\\2023\\20230627 halo H2B PDMS lines - sorted\\\n",
      "creating raw subdirectory for  Y:\\raw_data\\2023\\20230630 halo PDMS incubator - infected\\\n",
      "creating raw subdirectory for  Y:\\raw_data\\2023\\20230709 halo PDMS incubator\\\n",
      "creating raw subdirectory for  Y:\\raw_data\\2023\\20230711 teloHAEC halo glass\\\n",
      "creating raw subdirectory for  Y:\\raw_data\\2023\\20230713 teloHAEC halo col\\\n",
      "creating raw subdirectory for  Y:\\raw_data\\2023\\20230717 teloHAEC halo lines\\\n",
      "creating raw subdirectory for  Y:\\raw_data\\2023\\20230728 halo PDMS lines incubator\\\n",
      "creating raw subdirectory for  Y:\\raw_data\\2023\\20230803 halo PDMS lines incubator\\\n",
      "creating raw subdirectory for  Y:\\raw_data\\2023\\20230808 halo PDMS CDK1\\\n",
      "creating raw subdirectory for  Y:\\raw_data\\2023\\20230811 halo glass CDK1washout\\\n",
      "creating raw subdirectory for  Y:\\raw_data\\2023\\20230927 stretcher halo\\\n"
     ]
    }
   ],
   "source": [
    "# check if 'raw' subfolder exists\n",
    "for folder in tqdm(folders):\n",
    "    if os.path.isdir(folder+'raw'):\n",
    "        print('RAW DIRECTORY ALREADY EXISTS FOR '+folder)\n",
    "        continue\n",
    "    \n",
    "    print('creating raw subdirectory for ', folder)\n",
    "    # move all files to 'raw' subfolder\n",
    "    os.rename(folder, raw_data_dir+'raw')\n",
    "    os.mkdir(folder)\n",
    "\n",
    "    os.rename(raw_data_dir+'raw', folder+'raw')"
   ]
  },
  {
   "cell_type": "markdown",
   "metadata": {},
   "source": [
    "## Merge Data and Segmentation Folders w/ raw_data"
   ]
  },
  {
   "cell_type": "code",
   "execution_count": 56,
   "metadata": {},
   "outputs": [
    {
     "name": "stdout",
     "output_type": "stream",
     "text": [
      "Help on function copytree in module shutil:\n",
      "\n",
      "copytree(src, dst, symlinks=False, ignore=None, copy_function=<function copy2 at 0x000001F38FCEAF20>, ignore_dangling_symlinks=False, dirs_exist_ok=False)\n",
      "    Recursively copy a directory tree and return the destination directory.\n",
      "    \n",
      "    If exception(s) occur, an Error is raised with a list of reasons.\n",
      "    \n",
      "    If the optional symlinks flag is true, symbolic links in the\n",
      "    source tree result in symbolic links in the destination tree; if\n",
      "    it is false, the contents of the files pointed to by symbolic\n",
      "    links are copied. If the file pointed by the symlink doesn't\n",
      "    exist, an exception will be added in the list of errors raised in\n",
      "    an Error exception at the end of the copy process.\n",
      "    \n",
      "    You can set the optional ignore_dangling_symlinks flag to true if you\n",
      "    want to silence this exception. Notice that this has no effect on\n",
      "    platforms that don't support os.symlink.\n",
      "    \n",
      "    The optional ignore argument is a callable. If given, it\n",
      "    is called with the `src` parameter, which is the directory\n",
      "    being visited by copytree(), and `names` which is the list of\n",
      "    `src` contents, as returned by os.listdir():\n",
      "    \n",
      "        callable(src, names) -> ignored_names\n",
      "    \n",
      "    Since copytree() is called recursively, the callable will be\n",
      "    called once for each directory that is copied. It returns a\n",
      "    list of names relative to the `src` directory that should\n",
      "    not be copied.\n",
      "    \n",
      "    The optional copy_function argument is a callable that will be used\n",
      "    to copy each file. It will be called with the source path and the\n",
      "    destination path as arguments. By default, copy2() is used, but any\n",
      "    function that supports the same signature (like copy()) can be used.\n",
      "    \n",
      "    If dirs_exist_ok is false (the default) and `dst` already exists, a\n",
      "    `FileExistsError` is raised. If `dirs_exist_ok` is true, the copying\n",
      "    operation will continue if it encounters existing directories, and files\n",
      "    within the `dst` tree will be overwritten by corresponding files from the\n",
      "    `src` tree.\n",
      "\n"
     ]
    }
   ],
   "source": [
    "import shutil\n",
    "help(shutil.copytree)"
   ]
  },
  {
   "cell_type": "code",
   "execution_count": 59,
   "metadata": {},
   "outputs": [
    {
     "data": {
      "text/plain": [
       "'test_folder2'"
      ]
     },
     "execution_count": 59,
     "metadata": {},
     "output_type": "execute_result"
    }
   ],
   "source": [
    "shutil.copytree('test_folder/raw', 'test_folder2', dirs_exist_ok=True)"
   ]
  },
  {
   "cell_type": "code",
   "execution_count": 60,
   "metadata": {},
   "outputs": [
    {
     "data": {
      "application/vnd.jupyter.widget-view+json": {
       "model_id": "cb2d6df66276467eb176abfe79b03962",
       "version_major": 2,
       "version_minor": 0
      },
      "text/plain": [
       "  0%|          | 0/8 [00:00<?, ?it/s]"
      ]
     },
     "metadata": {},
     "output_type": "display_data"
    },
    {
     "name": "stdout",
     "output_type": "stream",
     "text": [
      "Y:\\my_data\\2023/20230508 halo glass lines incubator - good glass exists, moving files\n",
      "Y:\\my_data\\2023/20230511 halo PDMS lines incubator - dense exists, moving files\n"
     ]
    },
    {
     "ename": "PermissionError",
     "evalue": "[WinError 5] Access is denied: 'Y:\\\\my_data\\\\2023/20230511 halo PDMS lines incubator - dense' -> 'Y:\\\\my_data\\\\2023/placeholder'",
     "output_type": "error",
     "traceback": [
      "\u001b[1;31m---------------------------------------------------------------------------\u001b[0m",
      "\u001b[1;31mPermissionError\u001b[0m                           Traceback (most recent call last)",
      "Cell \u001b[1;32mIn[60], line 18\u001b[0m\n\u001b[0;32m     15\u001b[0m     \u001b[38;5;28;01mcontinue\u001b[39;00m\n\u001b[0;32m     17\u001b[0m \u001b[38;5;66;03m# move all files to 'raw' subfolder\u001b[39;00m\n\u001b[1;32m---> 18\u001b[0m os\u001b[38;5;241m.\u001b[39mrename(raw_data_folder, raw_data_dir\u001b[38;5;241m+\u001b[39m\u001b[38;5;124m'\u001b[39m\u001b[38;5;124m/placeholder\u001b[39m\u001b[38;5;124m'\u001b[39m)\n\u001b[0;32m     19\u001b[0m os\u001b[38;5;241m.\u001b[39mrename(folder, raw_data_folder)\n\u001b[0;32m     20\u001b[0m os\u001b[38;5;241m.\u001b[39mrename(raw_data_dir\u001b[38;5;241m+\u001b[39m\u001b[38;5;124m'\u001b[39m\u001b[38;5;124m/placeholder/raw\u001b[39m\u001b[38;5;124m'\u001b[39m, raw_data_folder\u001b[38;5;241m+\u001b[39m\u001b[38;5;124m'\u001b[39m\u001b[38;5;124m/raw\u001b[39m\u001b[38;5;124m'\u001b[39m)\n",
      "\u001b[1;31mPermissionError\u001b[0m: [WinError 5] Access is denied: 'Y:\\\\my_data\\\\2023/20230511 halo PDMS lines incubator - dense' -> 'Y:\\\\my_data\\\\2023/placeholder'"
     ]
    }
   ],
   "source": [
    "data_dir=r'Y:\\Data'\n",
    "folders=natsorted(glob(data_dir+'/2023*/'))\n",
    "\n",
    "raw_data_dir=r'Y:\\raw_data\\2023'\n",
    "for folder in tqdm(folders):\n",
    "    # get dataset name\n",
    "    dataset=Path(folder).stem # dataset name\n",
    "    raw_data_folder=raw_data_dir+'/'+dataset\n",
    "\n",
    "    # check if dataset exists in raw_data_dir\n",
    "    if os.path.isdir(raw_data_folder):\n",
    "        print(raw_data_folder+' exists, moving files')\n",
    "    else:\n",
    "        print(raw_data_folder+' DOES NOT EXIST! Skipping...')\n",
    "        continue\n",
    "\n",
    "    # move all files to 'raw' subfolder\n",
    "    os.rename(raw_data_folder, raw_data_dir+'/placeholder')\n",
    "    os.rename(folder, raw_data_folder)\n",
    "    os.rename(raw_data_dir+'/placeholder/raw', raw_data_folder+'/raw')\n",
    "    os.rmdir(raw_data_dir+'/placeholder')"
   ]
  },
  {
   "cell_type": "code",
   "execution_count": 73,
   "metadata": {},
   "outputs": [
    {
     "data": {
      "application/vnd.jupyter.widget-view+json": {
       "model_id": "60b5cd2ea0e54c8e9a4c50adfb704c8d",
       "version_major": 2,
       "version_minor": 0
      },
      "text/plain": [
       "  0%|          | 0/1 [00:00<?, ?it/s]"
      ]
     },
     "metadata": {},
     "output_type": "display_data"
    },
    {
     "name": "stdout",
     "output_type": "stream",
     "text": [
      "Y:\\my_data\\Mosaic/20240218 a-cat KO 32 - epi exists, moving files\n"
     ]
    }
   ],
   "source": [
    "data_dir=r'Y:\\Segmentation'\n",
    "folders=natsorted(glob(data_dir+'/2024*/'))\n",
    "\n",
    "raw_data_dir=r'Y:\\my_data\\Mosaic'\n",
    "for folder in tqdm(folders):\n",
    "    # get dataset name\n",
    "    dataset=Path(folder).stem # dataset name\n",
    "    raw_data_folder=raw_data_dir+'/'+dataset\n",
    "\n",
    "    # check if dataset exists in raw_data_dir\n",
    "    if os.path.isdir(raw_data_folder):\n",
    "        print(raw_data_folder+' exists, moving files')\n",
    "    else:\n",
    "        print(raw_data_folder+' DOES NOT EXIST! Skipping...')\n",
    "        continue\n",
    "\n",
    "    # move all subfolders from folder to raw_data_folder\n",
    "    for subfolder in os.listdir(folder):\n",
    "        os.rename(folder+'/'+subfolder, raw_data_folder+'/'+subfolder)\n",
    "\n",
    "    try:\n",
    "        os.rmdir(folder)\n",
    "    except Exception as e:\n",
    "        print(f'Error {e}, could not remove {folder}')\n",
    "        continue"
   ]
  },
  {
   "cell_type": "markdown",
   "metadata": {},
   "source": [
    "# Rename"
   ]
  },
  {
   "cell_type": "code",
   "execution_count": 12,
   "metadata": {},
   "outputs": [
    {
     "data": {
      "text/plain": [
       "['ROI001.tif',\n",
       " 'ROI002.tif',\n",
       " 'ROI003.tif',\n",
       " 'ROI004.tif',\n",
       " 'ROI005.tif',\n",
       " 'ROI006.tif',\n",
       " 'ROI007.tif',\n",
       " 'ROI008.tif',\n",
       " 'ROI009.tif',\n",
       " 'ROI010.tif',\n",
       " 'ROI011.tif',\n",
       " 'ROI012.tif',\n",
       " 'ROI013.tif',\n",
       " 'ROI014.tif',\n",
       " 'ROI015.tif',\n",
       " 'ROI016.tif',\n",
       " 'ROI017.tif',\n",
       " 'ROI018.tif',\n",
       " 'ROI019.tif',\n",
       " 'ROI020.tif']"
      ]
     },
     "execution_count": 12,
     "metadata": {},
     "output_type": "execute_result"
    }
   ],
   "source": [
    "# find all .TIF files in directory\n",
    "directory=r'C:\\Users\\Andy\\Desktop\\Heather_temp\\NORI\\50k'\n",
    "files = natsorted([f for f in os.listdir(directory) if f.endswith('.tif')])\n",
    "files"
   ]
  },
  {
   "cell_type": "code",
   "execution_count": 13,
   "metadata": {},
   "outputs": [
    {
     "data": {
      "application/vnd.jupyter.widget-view+json": {
       "model_id": "074fda5513d64d46aff75b6692a8f167",
       "version_major": 2,
       "version_minor": 0
      },
      "text/plain": [
       "  0%|          | 0/20 [00:00<?, ?it/s]"
      ]
     },
     "metadata": {},
     "output_type": "display_data"
    }
   ],
   "source": [
    "for n, f in enumerate(tqdm(files)):\n",
    "    renamed=f'p1_50k-{n}_NORI.tif'\n",
    "    os.rename(directory+'/'+f, directory+'/'+renamed)"
   ]
  },
  {
   "cell_type": "code",
   "execution_count": 10,
   "metadata": {},
   "outputs": [
    {
     "data": {
      "application/vnd.jupyter.widget-view+json": {
       "model_id": "dc889420c2f14950a680bcf9202aaa89",
       "version_major": 2,
       "version_minor": 0
      },
      "text/plain": [
       "  0%|          | 0/256 [00:00<?, ?it/s]"
      ]
     },
     "metadata": {},
     "output_type": "display_data"
    }
   ],
   "source": [
    "# increment the last number in the filename by 112\n",
    "for f in tqdm(files):\n",
    "    new_f = re.sub(r'(\\d+)(?=\\.\\w+$)', lambda m: str(int(m.group()) + 112), f)\n",
    "    os.rename(os.path.join(directory, f), os.path.join(directory, new_f))"
   ]
  },
  {
   "cell_type": "code",
   "execution_count": 4,
   "metadata": {},
   "outputs": [
    {
     "data": {
      "application/vnd.jupyter.widget-view+json": {
       "model_id": "cdab22f72d5c4fce8280245f2987075c",
       "version_major": 2,
       "version_minor": 0
      },
      "text/plain": [
       "  0%|          | 0/9 [00:00<?, ?it/s]"
      ]
     },
     "metadata": {},
     "output_type": "display_data"
    }
   ],
   "source": [
    "directory=r'Z:\\Andy\\raw_data\\20240622 FUCCI halo\\SC\\subtracted'\n",
    "files=[f for f in os.listdir(directory) if f.startswith('tile') and f.endswith('.tif')]\n",
    "\n",
    "for f in tqdm(files):\n",
    "    # replace 'tile' with 'membrane'\n",
    "    new_f = re.sub('tile', 'membrane', f)\n",
    "    os.rename(os.path.join(directory, f), os.path.join(directory, new_f))"
   ]
  },
  {
   "cell_type": "markdown",
   "metadata": {},
   "source": [
    "# Change stitching fluor"
   ]
  },
  {
   "cell_type": "code",
   "execution_count": 16,
   "metadata": {},
   "outputs": [
    {
     "name": "stdout",
     "output_type": "stream",
     "text": [
      "['tile7.registered.txt', 'tile2.registered.txt', 'tile5.registered.txt', 'tile3.registered.txt', 'tile4.registered.txt', 'tile6.registered.txt', 'tile1.registered.txt', 'tile8.registered.txt']\n"
     ]
    },
    {
     "data": {
      "application/vnd.jupyter.widget-view+json": {
       "model_id": "bc0e79201d964338a26a16c7368db696",
       "version_major": 2,
       "version_minor": 0
      },
      "text/plain": [
       "  0%|          | 0/8 [00:00<?, ?it/s]"
      ]
     },
     "metadata": {},
     "output_type": "display_data"
    }
   ],
   "source": [
    "directory=r'Y:\\raw_data\\20240705 FUCCI halo 3days\\ME replenish\\subtracted'\n",
    "files=[f for f in os.listdir(directory) if f.endswith('registered.txt')]\n",
    "print(files)\n",
    "\n",
    "current_fluor='w2561zyla'\n",
    "new_fluor='w1491zyla'\n",
    "zstack=False\n",
    "\n",
    "for f in tqdm(files):\n",
    "    with open(os.path.join(directory, f), 'r') as file:\n",
    "        filedata = file.read()\n",
    "    filedata = filedata.replace(current_fluor, new_fluor)\n",
    "    if zstack:\n",
    "        filedata = filedata.replace('dim = 2', 'dim = 3')\n",
    "        filedata = filedata.replace(')', ', 0.0)')\n",
    "    else:\n",
    "        if 'dim = 3' in filedata:\n",
    "            filedata = filedata.replace('dim = 3', 'dim = 2')\n",
    "            filedata = filedata.replace(', 0.0)', ')')\n",
    "    with open(os.path.join(directory, f), 'w') as file:\n",
    "        file.write(filedata)"
   ]
  }
 ],
 "metadata": {
  "kernelspec": {
   "display_name": "cellpose",
   "language": "python",
   "name": "python3"
  },
  "language_info": {
   "codemirror_mode": {
    "name": "ipython",
    "version": 3
   },
   "file_extension": ".py",
   "mimetype": "text/x-python",
   "name": "python",
   "nbconvert_exporter": "python",
   "pygments_lexer": "ipython3",
   "version": "3.11.4"
  }
 },
 "nbformat": 4,
 "nbformat_minor": 2
}
