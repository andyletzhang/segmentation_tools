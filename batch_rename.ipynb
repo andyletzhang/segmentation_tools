{
 "cells": [
  {
   "cell_type": "code",
   "execution_count": 1,
   "metadata": {},
   "outputs": [],
   "source": [
    "import os\n",
    "import re\n",
    "from tqdm.notebook import tqdm"
   ]
  },
  {
   "cell_type": "markdown",
   "metadata": {},
   "source": [
    "# Rename"
   ]
  },
  {
   "cell_type": "code",
   "execution_count": 9,
   "metadata": {},
   "outputs": [],
   "source": [
    "# find all .TIF files in directory\n",
    "directory=r'Z:\\Andy\\raw_data\\20240622 FUCCI halo\\SC\\attempt2'\n",
    "files = [f for f in os.listdir(directory) if f.endswith('.TIF')]"
   ]
  },
  {
   "cell_type": "code",
   "execution_count": 10,
   "metadata": {},
   "outputs": [
    {
     "data": {
      "application/vnd.jupyter.widget-view+json": {
       "model_id": "dc889420c2f14950a680bcf9202aaa89",
       "version_major": 2,
       "version_minor": 0
      },
      "text/plain": [
       "  0%|          | 0/256 [00:00<?, ?it/s]"
      ]
     },
     "metadata": {},
     "output_type": "display_data"
    }
   ],
   "source": [
    "# increment the last number in the filename by 112\n",
    "for f in tqdm(files):\n",
    "    new_f = re.sub(r'(\\d+)(?=\\.\\w+$)', lambda m: str(int(m.group()) + 112), f)\n",
    "    os.rename(os.path.join(directory, f), os.path.join(directory, new_f))"
   ]
  },
  {
   "cell_type": "code",
   "execution_count": 4,
   "metadata": {},
   "outputs": [
    {
     "data": {
      "application/vnd.jupyter.widget-view+json": {
       "model_id": "cdab22f72d5c4fce8280245f2987075c",
       "version_major": 2,
       "version_minor": 0
      },
      "text/plain": [
       "  0%|          | 0/9 [00:00<?, ?it/s]"
      ]
     },
     "metadata": {},
     "output_type": "display_data"
    }
   ],
   "source": [
    "directory=r'Z:\\Andy\\raw_data\\20240622 FUCCI halo\\SC\\subtracted'\n",
    "files=[f for f in os.listdir(directory) if f.startswith('tile') and f.endswith('.tif')]\n",
    "\n",
    "for f in tqdm(files):\n",
    "    # replace 'tile' with 'membrane'\n",
    "    new_f = re.sub('tile', 'membrane', f)\n",
    "    os.rename(os.path.join(directory, f), os.path.join(directory, new_f))"
   ]
  },
  {
   "cell_type": "markdown",
   "metadata": {},
   "source": [
    "# Change stitching fluor"
   ]
  },
  {
   "cell_type": "code",
   "execution_count": 15,
   "metadata": {},
   "outputs": [
    {
     "data": {
      "application/vnd.jupyter.widget-view+json": {
       "model_id": "8db6c675cb6e4f96826ed310406d086a",
       "version_major": 2,
       "version_minor": 0
      },
      "text/plain": [
       "  0%|          | 0/9 [00:00<?, ?it/s]"
      ]
     },
     "metadata": {},
     "output_type": "display_data"
    }
   ],
   "source": [
    "directory=r'Z:\\Andy\\raw_data\\20240622 FUCCI halo\\ME\\subtracted'\n",
    "files=[f for f in os.listdir(directory) if f.endswith('registered.txt')]\n",
    "\n",
    "current_fluor='w1491zyla'\n",
    "new_fluor='w2561zyla'\n",
    "zstack=False\n",
    "\n",
    "for f in tqdm(files):\n",
    "    with open(os.path.join(directory, f), 'r') as file:\n",
    "        filedata = file.read()\n",
    "    filedata = filedata.replace(current_fluor, new_fluor)\n",
    "    if zstack:\n",
    "        filedata = filedata.replace('dim = 2', 'dim = 3')\n",
    "        filedata = filedata.replace(')', ', 0.0)')\n",
    "    else:\n",
    "        if 'dim = 3' in filedata:\n",
    "            filedata = filedata.replace('dim = 3', 'dim = 2')\n",
    "            filedata = filedata.replace(', 0.0)', ')')\n",
    "    with open(os.path.join(directory, f), 'w') as file:\n",
    "        file.write(filedata)"
   ]
  }
 ],
 "metadata": {
  "kernelspec": {
   "display_name": "cellpose",
   "language": "python",
   "name": "python3"
  },
  "language_info": {
   "codemirror_mode": {
    "name": "ipython",
    "version": 3
   },
   "file_extension": ".py",
   "mimetype": "text/x-python",
   "name": "python",
   "nbconvert_exporter": "python",
   "pygments_lexer": "ipython3",
   "version": "3.11.8"
  }
 },
 "nbformat": 4,
 "nbformat_minor": 2
}
